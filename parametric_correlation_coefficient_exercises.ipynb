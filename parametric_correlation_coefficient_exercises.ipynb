{
 "cells": [
  {
   "cell_type": "code",
   "execution_count": 8,
   "id": "56273b0c-1401-493f-a737-886802987c9b",
   "metadata": {},
   "outputs": [
    {
     "name": "stdout",
     "output_type": "stream",
     "text": [
      "Exercise 1:\n",
      "These measures appear fairly correlated\n"
     ]
    },
    {
     "data": {
      "image/png": "[encoded data removed]",
      "text/plain": [
       "<Figure size 640x480 with 1 Axes>"
      ]
     },
     "metadata": {},
     "output_type": "display_data"
    }
   ],
   "source": [
    "#Written by Seth Talyansky on September 24, 2025\n",
    "import numpy as np\n",
    "from scipy import stats\n",
    "import matplotlib.pyplot as plt\n",
    "import pingouin\n",
    "wing_length = np.array([10.4, 10.8, 11.1, 10.2, 10.3, 10.2, 10.7, 10.5, 10.8, 11.2, 10.6, 11.4])\n",
    "tail_length = np.array([7.4, 7.6, 7.9, 7.2, 7.4, 7.1, 7.4, 7.2, 7.8, 7.7, 7.8, 8.3])\n",
    "n = len(wing_length)\n",
    "wl_mean = np.mean(wing_length)\n",
    "tl_mean = np.mean(tail_length)\n",
    "\n",
    "#Exercise 1\n",
    "print('Exercise 1:')\n",
    "plt.scatter(wing_length, tail_length)\n",
    "plt.xlabel('Wing length')\n",
    "plt.ylabel('Tail length')\n",
    "print('These measures appear fairly correlated')"
   ]
  },
  {
   "cell_type": "code",
   "execution_count": 11,
   "id": "b84eda47-ab1d-4cea-9ba4-951208aaf4bb",
   "metadata": {
    "scrolled": true
   },
   "outputs": [
    {
     "name": "stdout",
     "output_type": "stream",
     "text": [
      "The manually calculated correlation coefficient is 0.870355\n",
      "This matches the coefficient calculated using the built-in function: 0.870355\n"
     ]
    }
   ],
   "source": [
    "#Exercise 2\n",
    "xy = 0\n",
    "x = 0\n",
    "y = 0\n",
    "for i in range(n):\n",
    "    xy += (wing_length[i] - wl_mean) * (tail_length[i] - tl_mean)\n",
    "    x += (wing_length[i] - wl_mean)**2\n",
    "    y += (tail_length[i] - tl_mean)**2\n",
    "r_manual = xy/(x**0.5)/(y**0.5)\n",
    "r_builtin = np.corrcoef(wing_length, tail_length)[1][0]\n",
    "print('The manually calculated correlation coefficient is %f'%r_manual)\n",
    "print('This matches the coefficient calculated using the built-in function: %f'%r_builtin)"
   ]
  },
  {
   "cell_type": "code",
   "execution_count": 25,
   "id": "e760fb3c-c850-454e-8ead-15e7cc680e2d",
   "metadata": {},
   "outputs": [
    {
     "name": "stdout",
     "output_type": "stream",
     "text": [
      "The standard error is 0.155719\n",
      "The 95% confidence interval is [0.5923110780844787, 0.9631598602746105]\n"
     ]
    }
   ],
   "source": [
    "#Exercise 3\n",
    "sr = ((1-r_manual**2)/(n-2))**0.5\n",
    "print('The standard error is %f'%sr)\n",
    "z = 0.5*np.log((1+r_manual)/(1-r_manual))\n",
    "sz = (1/(n-3))**0.5\n",
    "l = z - stats.norm.ppf(0.975) * sz\n",
    "u = z + stats.norm.ppf(0.975) * sz\n",
    "ci = [float((np.exp(2*l)-1)/(np.exp(2*l)+1)), float((np.exp(2*u)-1)/(np.exp(2*u)+1))]\n",
    "print('The 95%% confidence interval is %s'%ci)\n"
   ]
  },
  {
   "cell_type": "code",
   "execution_count": 29,
   "id": "afd52d96-addc-4a15-a338-d09aafec5742",
   "metadata": {},
   "outputs": [
    {
     "name": "stdout",
     "output_type": "stream",
     "text": [
      "The correlation coefficient is significant at the P < 0.05 level because the P value of 0.00016 associated with the t-statistic is less than 0.025\n"
     ]
    }
   ],
   "source": [
    "#Exercise 4\n",
    "t = r_manual/sr\n",
    "p = stats.t.pdf(t, n-2)\n",
    "print('The correlation coefficient is significant at the P < 0.05 level because the P value of %.5f associated with the t-statistic is less than 0.025'%p)"
   ]
  },
  {
   "cell_type": "code",
   "execution_count": 32,
   "id": "59e5b97e-da3f-4457-9036-35df18872163",
   "metadata": {},
   "outputs": [
    {
     "name": "stdout",
     "output_type": "stream",
     "text": [
      "The correlation coefficient is not different from 0.75 at the P < 0.05 level of significance because the P value of 0.21 associated with the t-statistic (lambda) is greater than 0.05\n"
     ]
    }
   ],
   "source": [
    "#Exercise 5\n",
    "zrs = 0.5*np.log((1+0.75)/(1-0.75))\n",
    "la = (z - zrs)/((1/(n-3))**0.5)\n",
    "p = stats.t.pdf(la, n-2)\n",
    "print('The correlation coefficient is not different from 0.75 at the P < 0.05 level of significance because the P value of %.2f associated with the t-statistic (lambda) is greater than 0.05'%p)"
   ]
  },
  {
   "cell_type": "code",
   "execution_count": 7,
   "id": "413afa26-04de-4837-9917-93651672e7e6",
   "metadata": {},
   "outputs": [
    {
     "name": "stdout",
     "output_type": "stream",
     "text": [
      "To achieve 80% power, a sample size of at least 19 is needed\n"
     ]
    }
   ],
   "source": [
    "#Exercise 6\n",
    "min_n = np.ceil(pingouin.power_corr(r=0.5, power=0.8, alpha=0.05))\n",
    "print('To achieve 80%% power, a sample size of at least %d is needed'%min_n)"
   ]
  }
 ],
 "metadata": {
  "kernelspec": {
   "display_name": "Python 3 (ipykernel)",
   "language": "python",
   "name": "python3"
  },
  "language_info": {
   "codemirror_mode": {
    "name": "ipython",
    "version": 3
   },
   "file_extension": ".py",
   "mimetype": "text/x-python",
   "name": "python",
   "nbconvert_exporter": "python",
   "pygments_lexer": "ipython3",
   "version": "3.12.5"
  }
 },
 "nbformat": 4,
 "nbformat_minor": 5
}
