{
 "cells": [
  {
   "cell_type": "code",
   "execution_count": 5,
   "id": "bac63f88-8d76-4181-bff1-46057a745569",
   "metadata": {},
   "outputs": [
    {
     "name": "stdout",
     "output_type": "stream",
     "text": [
      "Given an effect of 0.100000, an N of 1571 is required for a power of 0.8\n",
      "\n",
      "Given an effect of 0.200000, an N of 394 is required for a power of 0.8\n",
      "\n",
      "Given an effect of 0.300000, an N of 176 is required for a power of 0.8\n",
      "\n",
      "Given an effect of 0.400000, an N of 100 is required for a power of 0.8\n",
      "\n",
      "Given an effect of 0.500000, an N of 64 is required for a power of 0.8\n",
      "\n",
      "Given an effect of 0.600000, an N of 45 is required for a power of 0.8\n",
      "\n",
      "Given an effect of 0.700000, an N of 34 is required for a power of 0.8\n",
      "\n",
      "Given an effect of 0.800000, an N of 26 is required for a power of 0.8\n",
      "\n",
      "Given an effect of 0.900000, an N of 21 is required for a power of 0.8\n",
      "\n",
      "Given an effect of 1.000000, an N of 17 is required for a power of 0.8\n",
      "\n",
      "Given an effect of 1.100000, an N of 15 is required for a power of 0.8\n",
      "\n",
      "Given an effect of 1.200000, an N of 12 is required for a power of 0.8\n",
      "\n",
      "Given an effect of 1.300000, an N of 11 is required for a power of 0.8\n",
      "\n",
      "Given an effect of 1.400000, an N of 10 is required for a power of 0.8\n",
      "\n",
      "Given an effect of 1.500000, an N of 9 is required for a power of 0.8\n",
      "\n",
      "Given an effect of 1.600000, an N of 8 is required for a power of 0.8\n",
      "\n",
      "Given an effect of 1.700000, an N of 7 is required for a power of 0.8\n",
      "\n",
      "Given an effect of 1.800000, an N of 6 is required for a power of 0.8\n",
      "\n",
      "Given an effect of 1.900000, an N of 6 is required for a power of 0.8\n",
      "\n",
      "Given an effect of 2.000000, an N of 6 is required for a power of 0.8\n",
      "\n"
     ]
    }
   ],
   "source": [
    "#Written by Seth Talyansky on September 14, 2025\n",
    "import numpy as np\n",
    "from scipy import stats\n",
    "from statsmodels.stats.power import TTestIndPower\n",
    "pwr = TTestIndPower()\n",
    "for effect in np.arange(0.1, 2.1, 0.1):\n",
    "    print('Given an effect of %f, an N of %d is required for a power of 0.8\\n' %(effect, np.ceil(pwr.solve_power(effect_size=effect, power=0.8, ratio=1, alpha=0.05))))"
   ]
  },
  {
   "cell_type": "code",
   "execution_count": null,
   "id": "3a3dc967-5798-4670-a85b-fa8b5ca49f6b",
   "metadata": {},
   "outputs": [],
   "source": []
  }
 ],
 "metadata": {
  "kernelspec": {
   "display_name": "Python 3 (ipykernel)",
   "language": "python",
   "name": "python3"
  },
  "language_info": {
   "codemirror_mode": {
    "name": "ipython",
    "version": 3
   },
   "file_extension": ".py",
   "mimetype": "text/x-python",
   "name": "python",
   "nbconvert_exporter": "python",
   "pygments_lexer": "ipython3",
   "version": "3.12.5"
  }
 },
 "nbformat": 4,
 "nbformat_minor": 5
}
